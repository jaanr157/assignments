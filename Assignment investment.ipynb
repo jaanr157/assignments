{
 "cells": [
  {
   "cell_type": "code",
   "execution_count": 1,
   "id": "909cb2ae",
   "metadata": {},
   "outputs": [],
   "source": [
    "from pyomo.environ import *\n",
    "from brooks import *"
   ]
  },
  {
   "cell_type": "code",
   "execution_count": 2,
   "id": "67176622",
   "metadata": {},
   "outputs": [],
   "source": [
    "import pandas as pd"
   ]
  },
  {
   "cell_type": "code",
   "execution_count": 3,
   "id": "ad686946",
   "metadata": {},
   "outputs": [
    {
     "name": "stdout",
     "output_type": "stream",
     "text": [
      "Requirement already satisfied: scikit-glpk in c:\\users\\dell\\anaconda3\\lib\\site-packages (0.4.4)\n",
      "Requirement already satisfied: numpy>=1.18.4 in c:\\users\\dell\\anaconda3\\lib\\site-packages (from scikit-glpk) (1.20.3)\n",
      "Requirement already satisfied: scipy>=1.5.2 in c:\\users\\dell\\anaconda3\\lib\\site-packages (from scikit-glpk) (1.7.1)\n",
      "Note: you may need to restart the kernel to use updated packages.\n"
     ]
    }
   ],
   "source": [
    "pip install scikit-glpk"
   ]
  },
  {
   "cell_type": "code",
   "execution_count": 4,
   "id": "4bee867a",
   "metadata": {},
   "outputs": [],
   "source": [
    "Investment = ['Internet_fund','Blue_chip']\n",
    "Client = ['Conservative','Moderate','Agressive']\n",
    "rate_of_return = {'Internet_fund': 0.12, 'Blue_chip': 0.09}\n",
    "risk_rate = {'Internet_fund': 0.006, 'Blue_chip': 0.004}\n",
    "max_risk_rate = {'Conservative':160 ,'Moderate':240 ,'Agressive': 320}\n",
    "Budget = 50000\n",
    "max_investment_in_company = {'Internet_fund':35000,'Blue_chip':50000}"
   ]
  },
  {
   "cell_type": "code",
   "execution_count": 5,
   "id": "9c3d3cfe",
   "metadata": {},
   "outputs": [],
   "source": [
    "model = Model()"
   ]
  },
  {
   "cell_type": "code",
   "execution_count": 6,
   "id": "ec406153",
   "metadata": {},
   "outputs": [
    {
     "name": "stdout",
     "output_type": "stream",
     "text": [
      "1 Set Declarations\n",
      "    x_index : Size=1, Index=None, Ordered=Insertion\n",
      "        Key  : Dimen : Domain : Size : Members\n",
      "        None :     1 :    Any :    2 : {'Internet_fund', 'Blue_chip'}\n",
      "\n",
      "1 Var Declarations\n",
      "    x : Size=2, Index=x_index\n",
      "        Key           : Lower : Value : Upper : Fixed : Stale : Domain\n",
      "            Blue_chip :     0 :  None :  None : False :  True : NonNegativeReals\n",
      "        Internet_fund :     0 :  None :  None : False :  True : NonNegativeReals\n",
      "\n",
      "2 Declarations: x_index x\n"
     ]
    }
   ],
   "source": [
    "if hasattr(model,'x'):\n",
    "    model.delete(model.x)\n",
    "model.x = Var(Investment, domain=NonNegativeReals)\n",
    "model.pprint()"
   ]
  },
  {
   "cell_type": "code",
   "execution_count": 7,
   "id": "9c885caa",
   "metadata": {},
   "outputs": [
    {
     "name": "stdout",
     "output_type": "stream",
     "text": [
      "1 Set Declarations\n",
      "    x_index : Size=1, Index=None, Ordered=Insertion\n",
      "        Key  : Dimen : Domain : Size : Members\n",
      "        None :     1 :    Any :    2 : {'Internet_fund', 'Blue_chip'}\n",
      "\n",
      "1 Var Declarations\n",
      "    x : Size=2, Index=x_index\n",
      "        Key           : Lower : Value : Upper : Fixed : Stale : Domain\n",
      "            Blue_chip :     0 :  None :  None : False :  True : NonNegativeReals\n",
      "        Internet_fund :     0 :  None :  None : False :  True : NonNegativeReals\n",
      "\n",
      "1 Objective Declarations\n",
      "    return_on_investment : Size=1, Index=None, Active=True\n",
      "        Key  : Active : Sense    : Expression\n",
      "        None :   True : maximize : 0.12*x[Internet_fund] + 0.09*x[Blue_chip]\n",
      "\n",
      "3 Declarations: x_index x return_on_investment\n"
     ]
    }
   ],
   "source": [
    "if hasattr(model, 'return_on_investment'):\n",
    "    model.delete(model.return_on_investment)\n",
    "model.return_on_investment = Objective(expr = sum(rate_of_return[i]*model.x[i] for i in Investment), sense=maximize)\n",
    "model.pprint()"
   ]
  },
  {
   "cell_type": "code",
   "execution_count": 8,
   "id": "7d741e43",
   "metadata": {},
   "outputs": [
    {
     "name": "stdout",
     "output_type": "stream",
     "text": [
      "1 Set Declarations\n",
      "    x_index : Size=1, Index=None, Ordered=Insertion\n",
      "        Key  : Dimen : Domain : Size : Members\n",
      "        None :     1 :    Any :    2 : {'Internet_fund', 'Blue_chip'}\n",
      "\n",
      "1 Var Declarations\n",
      "    x : Size=2, Index=x_index\n",
      "        Key           : Lower : Value : Upper : Fixed : Stale : Domain\n",
      "            Blue_chip :     0 :  None :  None : False :  True : NonNegativeReals\n",
      "        Internet_fund :     0 :  None :  None : False :  True : NonNegativeReals\n",
      "\n",
      "1 Objective Declarations\n",
      "    return_on_investment : Size=1, Index=None, Active=True\n",
      "        Key  : Active : Sense    : Expression\n",
      "        None :   True : maximize : 0.12*x[Internet_fund] + 0.09*x[Blue_chip]\n",
      "\n",
      "1 Constraint Declarations\n",
      "    total_investment : Size=1, Index=None, Active=True\n",
      "        Key  : Lower : Body                            : Upper   : Active\n",
      "        None :  -Inf : x[Internet_fund] + x[Blue_chip] : 50000.0 :   True\n",
      "\n",
      "4 Declarations: x_index x return_on_investment total_investment\n"
     ]
    }
   ],
   "source": [
    "if hasattr(model, 'total_investment'):\n",
    "    model.delete(model.total_investment)\n",
    "model.total_investment = Constraint(expr = sum(model.x[i] for i in Investment) <= Budget)\n",
    "model.pprint()"
   ]
  },
  {
   "cell_type": "code",
   "execution_count": 9,
   "id": "e7ac917e",
   "metadata": {},
   "outputs": [
    {
     "name": "stdout",
     "output_type": "stream",
     "text": [
      "2 Set Declarations\n",
      "    Internet_fund_constraint_index : Size=1, Index=None, Ordered=Insertion\n",
      "        Key  : Dimen : Domain : Size : Members\n",
      "        None :     1 :    Any :    2 : {1, 2}\n",
      "    x_index : Size=1, Index=None, Ordered=Insertion\n",
      "        Key  : Dimen : Domain : Size : Members\n",
      "        None :     1 :    Any :    2 : {'Internet_fund', 'Blue_chip'}\n",
      "\n",
      "1 Var Declarations\n",
      "    x : Size=2, Index=x_index\n",
      "        Key           : Lower : Value : Upper : Fixed : Stale : Domain\n",
      "            Blue_chip :     0 :  None :  None : False :  True : NonNegativeReals\n",
      "        Internet_fund :     0 :  None :  None : False :  True : NonNegativeReals\n",
      "\n",
      "1 Objective Declarations\n",
      "    return_on_investment : Size=1, Index=None, Active=True\n",
      "        Key  : Active : Sense    : Expression\n",
      "        None :   True : maximize : 0.12*x[Internet_fund] + 0.09*x[Blue_chip]\n",
      "\n",
      "2 Constraint Declarations\n",
      "    Internet_fund_constraint : Size=2, Index=Internet_fund_constraint_index, Active=True\n",
      "        Key : Lower : Body             : Upper   : Active\n",
      "          1 :  -Inf : x[Internet_fund] : 35000.0 :   True\n",
      "          2 :  -Inf :     x[Blue_chip] : 50000.0 :   True\n",
      "    total_investment : Size=1, Index=None, Active=True\n",
      "        Key  : Lower : Body                            : Upper   : Active\n",
      "        None :  -Inf : x[Internet_fund] + x[Blue_chip] : 50000.0 :   True\n",
      "\n",
      "6 Declarations: x_index x return_on_investment total_investment Internet_fund_constraint_index Internet_fund_constraint\n"
     ]
    }
   ],
   "source": [
    "if hasattr(model, 'Internet_fund_constraint'):\n",
    "    model.delete(model.Internet_fund_constraint)\n",
    "    \n",
    "model.Internet_fund_constraint = ConstraintList()\n",
    "for i in Investment:\n",
    "    model.Internet_fund_constraint.add(model.x[i] <= max_investment_in_company[i])\n",
    "model.pprint()"
   ]
  },
  {
   "cell_type": "code",
   "execution_count": 10,
   "id": "2787ece6",
   "metadata": {},
   "outputs": [
    {
     "name": "stdout",
     "output_type": "stream",
     "text": [
      "2 Set Declarations\n",
      "    Internet_fund_constraint_index : Size=1, Index=None, Ordered=Insertion\n",
      "        Key  : Dimen : Domain : Size : Members\n",
      "        None :     1 :    Any :    2 : {1, 2}\n",
      "    x_index : Size=1, Index=None, Ordered=Insertion\n",
      "        Key  : Dimen : Domain : Size : Members\n",
      "        None :     1 :    Any :    2 : {'Internet_fund', 'Blue_chip'}\n",
      "\n",
      "1 Var Declarations\n",
      "    x : Size=2, Index=x_index\n",
      "        Key           : Lower : Value : Upper : Fixed : Stale : Domain\n",
      "            Blue_chip :     0 :  None :  None : False :  True : NonNegativeReals\n",
      "        Internet_fund :     0 :  None :  None : False :  True : NonNegativeReals\n",
      "\n",
      "1 Objective Declarations\n",
      "    return_on_investment : Size=1, Index=None, Active=True\n",
      "        Key  : Active : Sense    : Expression\n",
      "        None :   True : maximize : 0.12*x[Internet_fund] + 0.09*x[Blue_chip]\n",
      "\n",
      "3 Constraint Declarations\n",
      "    Internet_fund_constraint : Size=2, Index=Internet_fund_constraint_index, Active=True\n",
      "        Key : Lower : Body             : Upper   : Active\n",
      "          1 :  -Inf : x[Internet_fund] : 35000.0 :   True\n",
      "          2 :  -Inf :     x[Blue_chip] : 50000.0 :   True\n",
      "    risk_factor_conservative : Size=1, Index=None, Active=True\n",
      "        Key  : Lower : Body                                        : Upper : Active\n",
      "        None :  -Inf : 0.006*x[Internet_fund] + 0.004*x[Blue_chip] : 160.0 :   True\n",
      "    total_investment : Size=1, Index=None, Active=True\n",
      "        Key  : Lower : Body                            : Upper   : Active\n",
      "        None :  -Inf : x[Internet_fund] + x[Blue_chip] : 50000.0 :   True\n",
      "\n",
      "7 Declarations: x_index x return_on_investment total_investment Internet_fund_constraint_index Internet_fund_constraint risk_factor_conservative\n"
     ]
    }
   ],
   "source": [
    "if hasattr(model, 'risk_factor_conservative'):\n",
    "    model.delete(model.risk_factor_conservative)\n",
    "model.risk_factor_conservative = Constraint(expr = sum(risk_rate[i]*model.x[i] for i in Investment) <= 160)\n",
    "model.pprint()"
   ]
  },
  {
   "cell_type": "code",
   "execution_count": 11,
   "id": "76496783",
   "metadata": {},
   "outputs": [
    {
     "name": "stdout",
     "output_type": "stream",
     "text": [
      "2 Set Declarations\n",
      "    Internet_fund_constraint_index : Size=1, Index=None, Ordered=Insertion\n",
      "        Key  : Dimen : Domain : Size : Members\n",
      "        None :     1 :    Any :    2 : {1, 2}\n",
      "    x_index : Size=1, Index=None, Ordered=Insertion\n",
      "        Key  : Dimen : Domain : Size : Members\n",
      "        None :     1 :    Any :    2 : {'Internet_fund', 'Blue_chip'}\n",
      "\n",
      "1 Var Declarations\n",
      "    x : Size=2, Index=x_index\n",
      "        Key           : Lower : Value : Upper : Fixed : Stale : Domain\n",
      "            Blue_chip :     0 :  None :  None : False :  True : NonNegativeReals\n",
      "        Internet_fund :     0 :  None :  None : False :  True : NonNegativeReals\n",
      "\n",
      "1 Objective Declarations\n",
      "    return_on_investment : Size=1, Index=None, Active=True\n",
      "        Key  : Active : Sense    : Expression\n",
      "        None :   True : maximize : 0.12*x[Internet_fund] + 0.09*x[Blue_chip]\n",
      "\n",
      "3 Constraint Declarations\n",
      "    Internet_fund_constraint : Size=2, Index=Internet_fund_constraint_index, Active=True\n",
      "        Key : Lower : Body             : Upper   : Active\n",
      "          1 :  -Inf : x[Internet_fund] : 35000.0 :   True\n",
      "          2 :  -Inf :     x[Blue_chip] : 50000.0 :   True\n",
      "    risk_factor_conservative : Size=1, Index=None, Active=True\n",
      "        Key  : Lower : Body                                        : Upper : Active\n",
      "        None :  -Inf : 0.006*x[Internet_fund] + 0.004*x[Blue_chip] : 160.0 :   True\n",
      "    total_investment : Size=1, Index=None, Active=True\n",
      "        Key  : Lower : Body                            : Upper   : Active\n",
      "        None :  -Inf : x[Internet_fund] + x[Blue_chip] : 50000.0 :   True\n",
      "\n",
      "7 Declarations: x_index x return_on_investment total_investment Internet_fund_constraint_index Internet_fund_constraint risk_factor_conservative\n"
     ]
    }
   ],
   "source": [
    "model.pprint()"
   ]
  },
  {
   "cell_type": "code",
   "execution_count": 12,
   "id": "5e390d56",
   "metadata": {
    "scrolled": false
   },
   "outputs": [],
   "source": [
    "solver = SolverFactory('glpk')\n",
    "status = solver.solve(model)"
   ]
  },
  {
   "cell_type": "code",
   "execution_count": 13,
   "id": "c28eb9c2",
   "metadata": {},
   "outputs": [
    {
     "name": "stdout",
     "output_type": "stream",
     "text": [
      "Status = \n",
      "Problem: \n",
      "- Name: unknown\n",
      "  Lower bound: 3600.0\n",
      "  Upper bound: 3600.0\n",
      "  Number of objectives: 1\n",
      "  Number of constraints: 5\n",
      "  Number of variables: 3\n",
      "  Number of nonzeros: 7\n",
      "  Sense: maximize\n",
      "Solver: \n",
      "- Status: ok\n",
      "  Termination condition: optimal\n",
      "  Statistics: \n",
      "    Branch and bound: \n",
      "      Number of bounded subproblems: 0\n",
      "      Number of created subproblems: 0\n",
      "  Error rc: 0\n",
      "  Time: 0.08333063125610352\n",
      "Solution: \n",
      "- number of solutions: 0\n",
      "  number of solutions displayed: 0\n",
      "\n"
     ]
    }
   ],
   "source": [
    "print('Status = %s' % status)"
   ]
  },
  {
   "cell_type": "code",
   "execution_count": 14,
   "id": "67a7371f",
   "metadata": {},
   "outputs": [
    {
     "name": "stdout",
     "output_type": "stream",
     "text": [
      "x[Internet_fund] = 0.000000\n",
      "x[Blue_chip] = 40000.000000\n",
      "Objective = 3600.000000\n"
     ]
    }
   ],
   "source": [
    "for i in Investment:\n",
    "    print('%s = %f' % (model.x[i], value(model.x[i])))\n",
    "print(\"Objective = %f\" % value(model.return_on_investment))"
   ]
  },
  {
   "cell_type": "code",
   "execution_count": 15,
   "id": "98e03283",
   "metadata": {},
   "outputs": [
    {
     "name": "stdout",
     "output_type": "stream",
     "text": [
      "2 Set Declarations\n",
      "    Internet_fund_constraint_index : Size=1, Index=None, Ordered=Insertion\n",
      "        Key  : Dimen : Domain : Size : Members\n",
      "        None :     1 :    Any :    2 : {1, 2}\n",
      "    x_index : Size=1, Index=None, Ordered=Insertion\n",
      "        Key  : Dimen : Domain : Size : Members\n",
      "        None :     1 :    Any :    2 : {'Internet_fund', 'Blue_chip'}\n",
      "\n",
      "1 Var Declarations\n",
      "    x : Size=2, Index=x_index\n",
      "        Key           : Lower : Value   : Upper : Fixed : Stale : Domain\n",
      "            Blue_chip :     0 : 40000.0 :  None : False : False : NonNegativeReals\n",
      "        Internet_fund :     0 :     0.0 :  None : False : False : NonNegativeReals\n",
      "\n",
      "1 Objective Declarations\n",
      "    return_on_investment : Size=1, Index=None, Active=True\n",
      "        Key  : Active : Sense    : Expression\n",
      "        None :   True : maximize : 0.12*x[Internet_fund] + 0.09*x[Blue_chip]\n",
      "\n",
      "3 Constraint Declarations\n",
      "    Internet_fund_constraint : Size=2, Index=Internet_fund_constraint_index, Active=True\n",
      "        Key : Lower : Body             : Upper   : Active\n",
      "          1 :  -Inf : x[Internet_fund] : 35000.0 :   True\n",
      "          2 :  -Inf :     x[Blue_chip] : 50000.0 :   True\n",
      "    risk_factor_conservative : Size=1, Index=None, Active=True\n",
      "        Key  : Lower : Body                                        : Upper : Active\n",
      "        None :  -Inf : 0.006*x[Internet_fund] + 0.004*x[Blue_chip] : 240.0 :   True\n",
      "    total_investment : Size=1, Index=None, Active=True\n",
      "        Key  : Lower : Body                            : Upper   : Active\n",
      "        None :  -Inf : x[Internet_fund] + x[Blue_chip] : 50000.0 :   True\n",
      "\n",
      "7 Declarations: x_index x return_on_investment total_investment Internet_fund_constraint_index Internet_fund_constraint risk_factor_conservative\n"
     ]
    }
   ],
   "source": [
    "if hasattr(model, 'risk_factor_conservative'):\n",
    "    model.delete(model.risk_factor_conservative)\n",
    "model.risk_factor_conservative = Constraint(expr = sum(risk_rate[i]*model.x[i] for i in Investment) <= 240)\n",
    "model.pprint()"
   ]
  },
  {
   "cell_type": "code",
   "execution_count": 16,
   "id": "5476765c",
   "metadata": {},
   "outputs": [],
   "source": [
    "solver = SolverFactory('glpk')\n",
    "status = solver.solve(model)"
   ]
  },
  {
   "cell_type": "code",
   "execution_count": 17,
   "id": "34f6d85a",
   "metadata": {},
   "outputs": [
    {
     "name": "stdout",
     "output_type": "stream",
     "text": [
      "Status = \n",
      "Problem: \n",
      "- Name: unknown\n",
      "  Lower bound: 5100.0\n",
      "  Upper bound: 5100.0\n",
      "  Number of objectives: 1\n",
      "  Number of constraints: 5\n",
      "  Number of variables: 3\n",
      "  Number of nonzeros: 7\n",
      "  Sense: maximize\n",
      "Solver: \n",
      "- Status: ok\n",
      "  Termination condition: optimal\n",
      "  Statistics: \n",
      "    Branch and bound: \n",
      "      Number of bounded subproblems: 0\n",
      "      Number of created subproblems: 0\n",
      "  Error rc: 0\n",
      "  Time: 0.09497237205505371\n",
      "Solution: \n",
      "- number of solutions: 0\n",
      "  number of solutions displayed: 0\n",
      "\n"
     ]
    }
   ],
   "source": [
    "print('Status = %s' % status)"
   ]
  },
  {
   "cell_type": "code",
   "execution_count": 18,
   "id": "16eb91b2",
   "metadata": {},
   "outputs": [
    {
     "name": "stdout",
     "output_type": "stream",
     "text": [
      "x[Internet_fund] = 20000.000000\n",
      "x[Blue_chip] = 30000.000000\n",
      "Objective = 5100.000000\n"
     ]
    }
   ],
   "source": [
    "for i in Investment:\n",
    "    print('%s = %f' % (model.x[i], value(model.x[i])))\n",
    "print(\"Objective = %f\" % value(model.return_on_investment))"
   ]
  },
  {
   "cell_type": "code",
   "execution_count": 19,
   "id": "3518da98",
   "metadata": {},
   "outputs": [
    {
     "name": "stdout",
     "output_type": "stream",
     "text": [
      "2 Set Declarations\n",
      "    Internet_fund_constraint_index : Size=1, Index=None, Ordered=Insertion\n",
      "        Key  : Dimen : Domain : Size : Members\n",
      "        None :     1 :    Any :    2 : {1, 2}\n",
      "    x_index : Size=1, Index=None, Ordered=Insertion\n",
      "        Key  : Dimen : Domain : Size : Members\n",
      "        None :     1 :    Any :    2 : {'Internet_fund', 'Blue_chip'}\n",
      "\n",
      "1 Var Declarations\n",
      "    x : Size=2, Index=x_index\n",
      "        Key           : Lower : Value   : Upper : Fixed : Stale : Domain\n",
      "            Blue_chip :     0 : 30000.0 :  None : False : False : NonNegativeReals\n",
      "        Internet_fund :     0 : 20000.0 :  None : False : False : NonNegativeReals\n",
      "\n",
      "1 Objective Declarations\n",
      "    return_on_investment : Size=1, Index=None, Active=True\n",
      "        Key  : Active : Sense    : Expression\n",
      "        None :   True : maximize : 0.12*x[Internet_fund] + 0.09*x[Blue_chip]\n",
      "\n",
      "3 Constraint Declarations\n",
      "    Internet_fund_constraint : Size=2, Index=Internet_fund_constraint_index, Active=True\n",
      "        Key : Lower : Body             : Upper   : Active\n",
      "          1 :  -Inf : x[Internet_fund] : 35000.0 :   True\n",
      "          2 :  -Inf :     x[Blue_chip] : 50000.0 :   True\n",
      "    risk_factor_conservative : Size=1, Index=None, Active=True\n",
      "        Key  : Lower : Body                                        : Upper : Active\n",
      "        None :  -Inf : 0.006*x[Internet_fund] + 0.004*x[Blue_chip] : 320.0 :   True\n",
      "    total_investment : Size=1, Index=None, Active=True\n",
      "        Key  : Lower : Body                            : Upper   : Active\n",
      "        None :  -Inf : x[Internet_fund] + x[Blue_chip] : 50000.0 :   True\n",
      "\n",
      "7 Declarations: x_index x return_on_investment total_investment Internet_fund_constraint_index Internet_fund_constraint risk_factor_conservative\n"
     ]
    }
   ],
   "source": [
    "if hasattr(model, 'risk_factor_conservative'):\n",
    "    model.delete(model.risk_factor_conservative)\n",
    "model.risk_factor_conservative = Constraint(expr = sum(risk_rate[i]*model.x[i] for i in Investment) <= 320)\n",
    "model.pprint()"
   ]
  },
  {
   "cell_type": "code",
   "execution_count": 20,
   "id": "bb95d829",
   "metadata": {},
   "outputs": [],
   "source": [
    "solver = SolverFactory('glpk')\n",
    "status = solver.solve(model)"
   ]
  },
  {
   "cell_type": "code",
   "execution_count": 21,
   "id": "1859d16e",
   "metadata": {},
   "outputs": [
    {
     "name": "stdout",
     "output_type": "stream",
     "text": [
      "Status = \n",
      "Problem: \n",
      "- Name: unknown\n",
      "  Lower bound: 5550.0\n",
      "  Upper bound: 5550.0\n",
      "  Number of objectives: 1\n",
      "  Number of constraints: 5\n",
      "  Number of variables: 3\n",
      "  Number of nonzeros: 7\n",
      "  Sense: maximize\n",
      "Solver: \n",
      "- Status: ok\n",
      "  Termination condition: optimal\n",
      "  Statistics: \n",
      "    Branch and bound: \n",
      "      Number of bounded subproblems: 0\n",
      "      Number of created subproblems: 0\n",
      "  Error rc: 0\n",
      "  Time: 0.12040972709655762\n",
      "Solution: \n",
      "- number of solutions: 0\n",
      "  number of solutions displayed: 0\n",
      "\n"
     ]
    }
   ],
   "source": [
    "print('Status = %s' % status)"
   ]
  },
  {
   "cell_type": "code",
   "execution_count": 22,
   "id": "47c0d690",
   "metadata": {},
   "outputs": [
    {
     "name": "stdout",
     "output_type": "stream",
     "text": [
      "x[Internet_fund] = 35000.000000\n",
      "x[Blue_chip] = 15000.000000\n",
      "Objective = 5550.000000\n"
     ]
    }
   ],
   "source": [
    "for i in Investment:\n",
    "    print('%s = %f' % (model.x[i], value(model.x[i])))\n",
    "print(\"Objective = %f\" % value(model.return_on_investment))"
   ]
  }
 ],
 "metadata": {
  "kernelspec": {
   "display_name": "Python 3 (ipykernel)",
   "language": "python",
   "name": "python3"
  },
  "language_info": {
   "codemirror_mode": {
    "name": "ipython",
    "version": 3
   },
   "file_extension": ".py",
   "mimetype": "text/x-python",
   "name": "python",
   "nbconvert_exporter": "python",
   "pygments_lexer": "ipython3",
   "version": "3.9.7"
  }
 },
 "nbformat": 4,
 "nbformat_minor": 5
}

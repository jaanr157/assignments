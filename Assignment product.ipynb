{
 "cells": [
  {
   "cell_type": "code",
   "execution_count": 1,
   "id": "9e75ac17",
   "metadata": {},
   "outputs": [],
   "source": [
    "from pyomo.environ import *\n",
    "from brooks import *\n",
    "import pandas as pd"
   ]
  },
  {
   "cell_type": "code",
   "execution_count": 2,
   "id": "e53da4e4",
   "metadata": {},
   "outputs": [],
   "source": [
    "P = ['1','2','3']\n",
    "R = ['A','L','H','S']\n",
    "##(A)\n",
    "Transport_cost = {'1':0.45,'2':1.00,'3':1.62}\n",
    "Prep_cost = {'1':0.15,'2':0.20,'3':0.18}\n",
    "Monthly_capacity = {'1':300,'2':500,'3':800}\n",
    "Month_demand = {'A':300, 'L':500,'H':400,'S':200}\n",
    "Ship_cost = {('1','A'):0.80, ('2','A'):1.20, ('3','A'):0.20, ('1','L'):1.10, ('2','L'):1.10, ('3','L'):1.40, ('1','H'):0.70, ('2','H'):0.50, ('3','H'):1.30, ('1','S'):1.40, ('2','S'):1.40, ('3','S'):1.70}"
   ]
  },
  {
   "cell_type": "code",
   "execution_count": 3,
   "id": "0de14164",
   "metadata": {},
   "outputs": [],
   "source": [
    "model = Model()"
   ]
  },
  {
   "cell_type": "code",
   "execution_count": 4,
   "id": "65405d8e",
   "metadata": {},
   "outputs": [
    {
     "name": "stdout",
     "output_type": "stream",
     "text": [
      "3 Set Declarations\n",
      "    x_index : Size=1, Index=None, Ordered=True\n",
      "        Key  : Dimen : Domain              : Size : Members\n",
      "        None :     2 : x_index_0*x_index_1 :   12 : {('1', 'A'), ('1', 'L'), ('1', 'H'), ('1', 'S'), ('2', 'A'), ('2', 'L'), ('2', 'H'), ('2', 'S'), ('3', 'A'), ('3', 'L'), ('3', 'H'), ('3', 'S')}\n",
      "    x_index_0 : Size=1, Index=None, Ordered=Insertion\n",
      "        Key  : Dimen : Domain : Size : Members\n",
      "        None :     1 :    Any :    3 : {'1', '2', '3'}\n",
      "    x_index_1 : Size=1, Index=None, Ordered=Insertion\n",
      "        Key  : Dimen : Domain : Size : Members\n",
      "        None :     1 :    Any :    4 : {'A', 'L', 'H', 'S'}\n",
      "\n",
      "1 Var Declarations\n",
      "    x : Size=12, Index=x_index\n",
      "        Key        : Lower : Value : Upper : Fixed : Stale : Domain\n",
      "        ('1', 'A') :     0 :  None :  None : False :  True : NonNegativeReals\n",
      "        ('1', 'H') :     0 :  None :  None : False :  True : NonNegativeReals\n",
      "        ('1', 'L') :     0 :  None :  None : False :  True : NonNegativeReals\n",
      "        ('1', 'S') :     0 :  None :  None : False :  True : NonNegativeReals\n",
      "        ('2', 'A') :     0 :  None :  None : False :  True : NonNegativeReals\n",
      "        ('2', 'H') :     0 :  None :  None : False :  True : NonNegativeReals\n",
      "        ('2', 'L') :     0 :  None :  None : False :  True : NonNegativeReals\n",
      "        ('2', 'S') :     0 :  None :  None : False :  True : NonNegativeReals\n",
      "        ('3', 'A') :     0 :  None :  None : False :  True : NonNegativeReals\n",
      "        ('3', 'H') :     0 :  None :  None : False :  True : NonNegativeReals\n",
      "        ('3', 'L') :     0 :  None :  None : False :  True : NonNegativeReals\n",
      "        ('3', 'S') :     0 :  None :  None : False :  True : NonNegativeReals\n",
      "\n",
      "4 Declarations: x_index_0 x_index_1 x_index x\n"
     ]
    }
   ],
   "source": [
    "if hasattr(model,'x'):\n",
    "    model.delete(model.x)\n",
    "model.x = Var(P,R,domain=NonNegativeReals)\n",
    "model.pprint()"
   ]
  },
  {
   "cell_type": "code",
   "execution_count": 5,
   "id": "09047f47",
   "metadata": {},
   "outputs": [
    {
     "name": "stdout",
     "output_type": "stream",
     "text": [
      "3 Set Declarations\n",
      "    x_index : Size=1, Index=None, Ordered=True\n",
      "        Key  : Dimen : Domain              : Size : Members\n",
      "        None :     2 : x_index_0*x_index_1 :   12 : {('1', 'A'), ('1', 'L'), ('1', 'H'), ('1', 'S'), ('2', 'A'), ('2', 'L'), ('2', 'H'), ('2', 'S'), ('3', 'A'), ('3', 'L'), ('3', 'H'), ('3', 'S')}\n",
      "    x_index_0 : Size=1, Index=None, Ordered=Insertion\n",
      "        Key  : Dimen : Domain : Size : Members\n",
      "        None :     1 :    Any :    3 : {'1', '2', '3'}\n",
      "    x_index_1 : Size=1, Index=None, Ordered=Insertion\n",
      "        Key  : Dimen : Domain : Size : Members\n",
      "        None :     1 :    Any :    4 : {'A', 'L', 'H', 'S'}\n",
      "\n",
      "1 Var Declarations\n",
      "    x : Size=12, Index=x_index\n",
      "        Key        : Lower : Value : Upper : Fixed : Stale : Domain\n",
      "        ('1', 'A') :     0 :  None :  None : False :  True : NonNegativeReals\n",
      "        ('1', 'H') :     0 :  None :  None : False :  True : NonNegativeReals\n",
      "        ('1', 'L') :     0 :  None :  None : False :  True : NonNegativeReals\n",
      "        ('1', 'S') :     0 :  None :  None : False :  True : NonNegativeReals\n",
      "        ('2', 'A') :     0 :  None :  None : False :  True : NonNegativeReals\n",
      "        ('2', 'H') :     0 :  None :  None : False :  True : NonNegativeReals\n",
      "        ('2', 'L') :     0 :  None :  None : False :  True : NonNegativeReals\n",
      "        ('2', 'S') :     0 :  None :  None : False :  True : NonNegativeReals\n",
      "        ('3', 'A') :     0 :  None :  None : False :  True : NonNegativeReals\n",
      "        ('3', 'H') :     0 :  None :  None : False :  True : NonNegativeReals\n",
      "        ('3', 'L') :     0 :  None :  None : False :  True : NonNegativeReals\n",
      "        ('3', 'S') :     0 :  None :  None : False :  True : NonNegativeReals\n",
      "\n",
      "1 Objective Declarations\n",
      "    cost_objective : Size=1, Index=None, Active=True\n",
      "        Key  : Active : Sense    : Expression\n",
      "        None :   True : minimize : 1.4*x['1',A] + 1.7*x['1',L] + 1.2999999999999998*x['1',H] + 1.9999999999999998*x['1',S] + 2.4000000000000004*x['2',A] + 2.3000000000000003*x['2',L] + 1.7*x['2',H] + 2.6*x['2',S] + 2.0*x['3',A] + 3.2*x['3',L] + 3.1*x['3',H] + 3.5000000000000004*x['3',S]\n",
      "\n",
      "5 Declarations: x_index_0 x_index_1 x_index x cost_objective\n"
     ]
    }
   ],
   "source": [
    "if hasattr(model, 'cost_objective'):\n",
    "    model.delete(model.cost_objective)\n",
    "model.cost_objective = Objective(expr = sum((Ship_cost[i,j]+Transport_cost[i]+Prep_cost[i])*model.x[i,j] for i in P for j in R), sense=minimize)\n",
    "model.pprint()"
   ]
  },
  {
   "cell_type": "markdown",
   "id": "da1af164",
   "metadata": {},
   "source": [
    "Constraints"
   ]
  },
  {
   "cell_type": "code",
   "execution_count": 7,
   "id": "a2f5669d",
   "metadata": {},
   "outputs": [
    {
     "name": "stdout",
     "output_type": "stream",
     "text": [
      "4 Set Declarations\n",
      "    capacity_constraint_index : Size=1, Index=None, Ordered=Insertion\n",
      "        Key  : Dimen : Domain : Size : Members\n",
      "        None :     1 :    Any :    3 : {1, 2, 3}\n",
      "    x_index : Size=1, Index=None, Ordered=True\n",
      "        Key  : Dimen : Domain              : Size : Members\n",
      "        None :     2 : x_index_0*x_index_1 :   12 : {('1', 'A'), ('1', 'L'), ('1', 'H'), ('1', 'S'), ('2', 'A'), ('2', 'L'), ('2', 'H'), ('2', 'S'), ('3', 'A'), ('3', 'L'), ('3', 'H'), ('3', 'S')}\n",
      "    x_index_0 : Size=1, Index=None, Ordered=Insertion\n",
      "        Key  : Dimen : Domain : Size : Members\n",
      "        None :     1 :    Any :    3 : {'1', '2', '3'}\n",
      "    x_index_1 : Size=1, Index=None, Ordered=Insertion\n",
      "        Key  : Dimen : Domain : Size : Members\n",
      "        None :     1 :    Any :    4 : {'A', 'L', 'H', 'S'}\n",
      "\n",
      "1 Var Declarations\n",
      "    x : Size=12, Index=x_index\n",
      "        Key        : Lower : Value : Upper : Fixed : Stale : Domain\n",
      "        ('1', 'A') :     0 :  None :  None : False :  True : NonNegativeReals\n",
      "        ('1', 'H') :     0 :  None :  None : False :  True : NonNegativeReals\n",
      "        ('1', 'L') :     0 :  None :  None : False :  True : NonNegativeReals\n",
      "        ('1', 'S') :     0 :  None :  None : False :  True : NonNegativeReals\n",
      "        ('2', 'A') :     0 :  None :  None : False :  True : NonNegativeReals\n",
      "        ('2', 'H') :     0 :  None :  None : False :  True : NonNegativeReals\n",
      "        ('2', 'L') :     0 :  None :  None : False :  True : NonNegativeReals\n",
      "        ('2', 'S') :     0 :  None :  None : False :  True : NonNegativeReals\n",
      "        ('3', 'A') :     0 :  None :  None : False :  True : NonNegativeReals\n",
      "        ('3', 'H') :     0 :  None :  None : False :  True : NonNegativeReals\n",
      "        ('3', 'L') :     0 :  None :  None : False :  True : NonNegativeReals\n",
      "        ('3', 'S') :     0 :  None :  None : False :  True : NonNegativeReals\n",
      "\n",
      "1 Objective Declarations\n",
      "    cost_objective : Size=1, Index=None, Active=True\n",
      "        Key  : Active : Sense    : Expression\n",
      "        None :   True : minimize : 1.4*x['1',A] + 1.7*x['1',L] + 1.2999999999999998*x['1',H] + 1.9999999999999998*x['1',S] + 2.4000000000000004*x['2',A] + 2.3000000000000003*x['2',L] + 1.7*x['2',H] + 2.6*x['2',S] + 2.0*x['3',A] + 3.2*x['3',L] + 3.1*x['3',H] + 3.5000000000000004*x['3',S]\n",
      "\n",
      "1 Constraint Declarations\n",
      "    capacity_constraint : Size=3, Index=capacity_constraint_index, Active=True\n",
      "        Key : Lower : Body                                      : Upper : Active\n",
      "          1 :  -Inf : x['1',A] + x['1',L] + x['1',H] + x['1',S] : 300.0 :   True\n",
      "          2 :  -Inf : x['2',A] + x['2',L] + x['2',H] + x['2',S] : 500.0 :   True\n",
      "          3 :  -Inf : x['3',A] + x['3',L] + x['3',H] + x['3',S] : 800.0 :   True\n",
      "\n",
      "7 Declarations: x_index_0 x_index_1 x_index x cost_objective capacity_constraint_index capacity_constraint\n"
     ]
    }
   ],
   "source": [
    "if hasattr(model, 'capacity_constraint'):\n",
    "    model.delete(model.capacity_constraint)\n",
    "model.capacity_constraint = ConstraintList()\n",
    "for i in P:\n",
    "    model.capacity_constraint.add(sum(model.x[i,j] for j in R) <= Monthly_capacity[i])\n",
    "model.pprint()"
   ]
  },
  {
   "cell_type": "code",
   "execution_count": 8,
   "id": "00c3502e",
   "metadata": {},
   "outputs": [
    {
     "name": "stdout",
     "output_type": "stream",
     "text": [
      "5 Set Declarations\n",
      "    capacity_constraint_index : Size=1, Index=None, Ordered=Insertion\n",
      "        Key  : Dimen : Domain : Size : Members\n",
      "        None :     1 :    Any :    3 : {1, 2, 3}\n",
      "    demand_constraint_index : Size=1, Index=None, Ordered=Insertion\n",
      "        Key  : Dimen : Domain : Size : Members\n",
      "        None :     1 :    Any :    4 : {1, 2, 3, 4}\n",
      "    x_index : Size=1, Index=None, Ordered=True\n",
      "        Key  : Dimen : Domain              : Size : Members\n",
      "        None :     2 : x_index_0*x_index_1 :   12 : {('1', 'A'), ('1', 'L'), ('1', 'H'), ('1', 'S'), ('2', 'A'), ('2', 'L'), ('2', 'H'), ('2', 'S'), ('3', 'A'), ('3', 'L'), ('3', 'H'), ('3', 'S')}\n",
      "    x_index_0 : Size=1, Index=None, Ordered=Insertion\n",
      "        Key  : Dimen : Domain : Size : Members\n",
      "        None :     1 :    Any :    3 : {'1', '2', '3'}\n",
      "    x_index_1 : Size=1, Index=None, Ordered=Insertion\n",
      "        Key  : Dimen : Domain : Size : Members\n",
      "        None :     1 :    Any :    4 : {'A', 'L', 'H', 'S'}\n",
      "\n",
      "1 Var Declarations\n",
      "    x : Size=12, Index=x_index\n",
      "        Key        : Lower : Value : Upper : Fixed : Stale : Domain\n",
      "        ('1', 'A') :     0 :  None :  None : False :  True : NonNegativeReals\n",
      "        ('1', 'H') :     0 :  None :  None : False :  True : NonNegativeReals\n",
      "        ('1', 'L') :     0 :  None :  None : False :  True : NonNegativeReals\n",
      "        ('1', 'S') :     0 :  None :  None : False :  True : NonNegativeReals\n",
      "        ('2', 'A') :     0 :  None :  None : False :  True : NonNegativeReals\n",
      "        ('2', 'H') :     0 :  None :  None : False :  True : NonNegativeReals\n",
      "        ('2', 'L') :     0 :  None :  None : False :  True : NonNegativeReals\n",
      "        ('2', 'S') :     0 :  None :  None : False :  True : NonNegativeReals\n",
      "        ('3', 'A') :     0 :  None :  None : False :  True : NonNegativeReals\n",
      "        ('3', 'H') :     0 :  None :  None : False :  True : NonNegativeReals\n",
      "        ('3', 'L') :     0 :  None :  None : False :  True : NonNegativeReals\n",
      "        ('3', 'S') :     0 :  None :  None : False :  True : NonNegativeReals\n",
      "\n",
      "1 Objective Declarations\n",
      "    cost_objective : Size=1, Index=None, Active=True\n",
      "        Key  : Active : Sense    : Expression\n",
      "        None :   True : minimize : 1.4*x['1',A] + 1.7*x['1',L] + 1.2999999999999998*x['1',H] + 1.9999999999999998*x['1',S] + 2.4000000000000004*x['2',A] + 2.3000000000000003*x['2',L] + 1.7*x['2',H] + 2.6*x['2',S] + 2.0*x['3',A] + 3.2*x['3',L] + 3.1*x['3',H] + 3.5000000000000004*x['3',S]\n",
      "\n",
      "2 Constraint Declarations\n",
      "    capacity_constraint : Size=3, Index=capacity_constraint_index, Active=True\n",
      "        Key : Lower : Body                                      : Upper : Active\n",
      "          1 :  -Inf : x['1',A] + x['1',L] + x['1',H] + x['1',S] : 300.0 :   True\n",
      "          2 :  -Inf : x['2',A] + x['2',L] + x['2',H] + x['2',S] : 500.0 :   True\n",
      "          3 :  -Inf : x['3',A] + x['3',L] + x['3',H] + x['3',S] : 800.0 :   True\n",
      "    demand_constraint : Size=4, Index=demand_constraint_index, Active=True\n",
      "        Key : Lower : Body                           : Upper : Active\n",
      "          1 : 300.0 : x['1',A] + x['2',A] + x['3',A] :  +Inf :   True\n",
      "          2 : 500.0 : x['1',L] + x['2',L] + x['3',L] :  +Inf :   True\n",
      "          3 : 400.0 : x['1',H] + x['2',H] + x['3',H] :  +Inf :   True\n",
      "          4 : 200.0 : x['1',S] + x['2',S] + x['3',S] :  +Inf :   True\n",
      "\n",
      "9 Declarations: x_index_0 x_index_1 x_index x cost_objective capacity_constraint_index capacity_constraint demand_constraint_index demand_constraint\n"
     ]
    }
   ],
   "source": [
    "if hasattr(model, 'demand_constraint'):\n",
    "    model.delete(model.demand_constraint)\n",
    "model.demand_constraint = ConstraintList()\n",
    "for j in R:\n",
    "    model.demand_constraint.add(sum(model.x[i,j] for i in P) >= Month_demand[j])\n",
    "model.pprint()"
   ]
  },
  {
   "cell_type": "code",
   "execution_count": 9,
   "id": "def21903",
   "metadata": {},
   "outputs": [],
   "source": [
    "solver = SolverFactory('glpk')\n",
    "status = solver.solve(model)"
   ]
  },
  {
   "cell_type": "code",
   "execution_count": 10,
   "id": "201856f5",
   "metadata": {},
   "outputs": [
    {
     "name": "stdout",
     "output_type": "stream",
     "text": [
      "Status = \n",
      "Problem: \n",
      "- Name: unknown\n",
      "  Lower bound: 3040.0\n",
      "  Upper bound: 3040.0\n",
      "  Number of objectives: 1\n",
      "  Number of constraints: 8\n",
      "  Number of variables: 13\n",
      "  Number of nonzeros: 25\n",
      "  Sense: minimize\n",
      "Solver: \n",
      "- Status: ok\n",
      "  Termination condition: optimal\n",
      "  Statistics: \n",
      "    Branch and bound: \n",
      "      Number of bounded subproblems: 0\n",
      "      Number of created subproblems: 0\n",
      "  Error rc: 0\n",
      "  Time: 0.06448650360107422\n",
      "Solution: \n",
      "- number of solutions: 0\n",
      "  number of solutions displayed: 0\n",
      "\n"
     ]
    }
   ],
   "source": [
    "print('Status = %s' % status)"
   ]
  },
  {
   "cell_type": "code",
   "execution_count": 11,
   "id": "41ee6b06",
   "metadata": {},
   "outputs": [
    {
     "name": "stdout",
     "output_type": "stream",
     "text": [
      "x['1',A] = 0.000000\n",
      "x['1',L] = 200.000000\n",
      "x['1',H] = 0.000000\n",
      "x['1',S] = 100.000000\n",
      "x['2',A] = 0.000000\n",
      "x['2',L] = 0.000000\n",
      "x['2',H] = 400.000000\n",
      "x['2',S] = 100.000000\n",
      "x['3',A] = 300.000000\n",
      "x['3',L] = 300.000000\n",
      "x['3',H] = 0.000000\n",
      "x['3',S] = 0.000000\n",
      "Objective = 3040.000000\n"
     ]
    }
   ],
   "source": [
    "for i in P:\n",
    "    for j in R:\n",
    "        print('%s = %f' % (model.x[i,j], value(model.x[i,j])))\n",
    "print(\"Objective = %f\" % value(model.cost_objective))"
   ]
  },
  {
   "cell_type": "code",
   "execution_count": null,
   "id": "b2e21a31",
   "metadata": {},
   "outputs": [],
   "source": []
  }
 ],
 "metadata": {
  "kernelspec": {
   "display_name": "Python 3 (ipykernel)",
   "language": "python",
   "name": "python3"
  },
  "language_info": {
   "codemirror_mode": {
    "name": "ipython",
    "version": 3
   },
   "file_extension": ".py",
   "mimetype": "text/x-python",
   "name": "python",
   "nbconvert_exporter": "python",
   "pygments_lexer": "ipython3",
   "version": "3.9.7"
  }
 },
 "nbformat": 4,
 "nbformat_minor": 5
}

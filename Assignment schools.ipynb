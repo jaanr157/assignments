{
 "cells": [
  {
   "cell_type": "markdown",
   "metadata": {},
   "source": [
    "Import Pyomo, course code, and Pandas."
   ]
  },
  {
   "cell_type": "code",
   "execution_count": 20,
   "metadata": {},
   "outputs": [],
   "source": [
    "from pyomo.environ import *\n",
    "from brooks import *\n",
    "import pandas as pd"
   ]
  },
  {
   "cell_type": "markdown",
   "metadata": {},
   "source": [
    "Define data.  The index_col parameter gives the row indexes.  By default, the function assumes the first row contains column names."
   ]
  },
  {
   "cell_type": "code",
   "execution_count": 21,
   "metadata": {},
   "outputs": [],
   "source": [
    "school_data = pd.read_excel(\"schools.xlsx\", \n",
    "                          sheet_name=\"Sheet1\",\n",
    "                          index_col=0)\n",
    "\n",
    "col_names = list(school_data)\n",
    "I = [i for i in col_names if \"Input\" in i]\n",
    "J = [j for j in col_names if \"Output\" in j]\n",
    "S = list(school_data.index)\n",
    "\n",
    "input_data = school_data[I].stack().to_dict()\n",
    "output_data = school_data[J].stack().to_dict()"
   ]
  },
  {
   "cell_type": "markdown",
   "metadata": {},
   "source": [
    "Declare a model object."
   ]
  },
  {
   "cell_type": "code",
   "execution_count": 22,
   "metadata": {},
   "outputs": [],
   "source": [
    "model = Model()"
   ]
  },
  {
   "cell_type": "markdown",
   "metadata": {},
   "source": [
    "Declare a parameter for the objective function coefficients."
   ]
  },
  {
   "cell_type": "code",
   "execution_count": 23,
   "metadata": {},
   "outputs": [],
   "source": [
    "if hasattr(model, 'obj_coef'):\n",
    "    model.delete(model.obj_coef)\n",
    "model.obj_coef = Param(J, mutable=True)"
   ]
  },
  {
   "cell_type": "markdown",
   "metadata": {},
   "source": [
    "Declare a parameter for the normalization constraint coeffcients."
   ]
  },
  {
   "cell_type": "code",
   "execution_count": 24,
   "metadata": {},
   "outputs": [],
   "source": [
    "if hasattr(model, 'norm_coef'):\n",
    "    model.delete(model.norm_coef)\n",
    "model.norm_coef = Param(I, mutable=True)"
   ]
  },
  {
   "cell_type": "markdown",
   "metadata": {},
   "source": [
    "Declare nonnegative variables for costs of inputs."
   ]
  },
  {
   "cell_type": "code",
   "execution_count": 25,
   "metadata": {},
   "outputs": [],
   "source": [
    "if hasattr(model, 'x'):\n",
    "    model.delete(model.x)\n",
    "model.x = Var(I, domain=NonNegativeReals)"
   ]
  },
  {
   "cell_type": "markdown",
   "metadata": {},
   "source": [
    "Define nonnegative variables for prices of outputs."
   ]
  },
  {
   "cell_type": "code",
   "execution_count": 26,
   "metadata": {},
   "outputs": [],
   "source": [
    "if hasattr(model, 'y'):\n",
    "    model.delete(model.y)\n",
    "model.y = Var(J, domain=NonNegativeReals)"
   ]
  },
  {
   "cell_type": "markdown",
   "metadata": {},
   "source": [
    "Define the objective function."
   ]
  },
  {
   "cell_type": "code",
   "execution_count": 27,
   "metadata": {
    "scrolled": true
   },
   "outputs": [],
   "source": [
    "if hasattr(model, 'total_value_objective'):\n",
    "    model.delete(model.total_value_objective)\n",
    "model.total_value_objective = Objective(\n",
    "    expr = sum(model.obj_coef[j]*model.y[j] for j in J), \n",
    "    sense=maximize)"
   ]
  },
  {
   "cell_type": "markdown",
   "metadata": {},
   "source": [
    "Specify the efficiency limit constraint. "
   ]
  },
  {
   "cell_type": "code",
   "execution_count": 28,
   "metadata": {},
   "outputs": [],
   "source": [
    "if hasattr(model, 'efficiency_constraint'):\n",
    "    model.delete(model.efficiency_constraint)\n",
    "model.efficiency_constraint = ConstraintList()\n",
    "for s in S:\n",
    "    model.efficiency_constraint.add(sum(output_data[s,j]*model.y[j] for j in J) <= \n",
    "                              sum(input_data[s,i]*model.x[i] for i in I))"
   ]
  },
  {
   "cell_type": "markdown",
   "metadata": {},
   "source": [
    "Specify the normalization constraint."
   ]
  },
  {
   "cell_type": "code",
   "execution_count": 29,
   "metadata": {},
   "outputs": [
    {
     "name": "stdout",
     "output_type": "stream",
     "text": [
      "5 Set Declarations\n",
      "    efficiency_constraint_index : Size=1, Index=None, Ordered=Insertion\n",
      "        Key  : Dimen : Domain : Size : Members\n",
      "        None :     1 :    Any :    4 : {1, 2, 3, 4}\n",
      "    norm_coef_index : Size=1, Index=None, Ordered=Insertion\n",
      "        Key  : Dimen : Domain : Size : Members\n",
      "        None :     1 :    Any :    3 : {'Input 1', 'Input 2', 'Input 3'}\n",
      "    obj_coef_index : Size=1, Index=None, Ordered=Insertion\n",
      "        Key  : Dimen : Domain : Size : Members\n",
      "        None :     1 :    Any :    3 : {'Output 1', 'Output 2', 'Output 3'}\n",
      "    x_index : Size=1, Index=None, Ordered=Insertion\n",
      "        Key  : Dimen : Domain : Size : Members\n",
      "        None :     1 :    Any :    3 : {'Input 1', 'Input 2', 'Input 3'}\n",
      "    y_index : Size=1, Index=None, Ordered=Insertion\n",
      "        Key  : Dimen : Domain : Size : Members\n",
      "        None :     1 :    Any :    3 : {'Output 1', 'Output 2', 'Output 3'}\n",
      "\n",
      "2 Param Declarations\n",
      "    norm_coef : Size=3, Index=norm_coef_index, Domain=Any, Default=None, Mutable=True\n",
      "        Key     : Value\n",
      "        Input 1 : <class 'pyomo.core.base.param._NotValid'>\n",
      "        Input 2 : <class 'pyomo.core.base.param._NotValid'>\n",
      "        Input 3 : <class 'pyomo.core.base.param._NotValid'>\n",
      "    obj_coef : Size=3, Index=obj_coef_index, Domain=Any, Default=None, Mutable=True\n",
      "        Key      : Value\n",
      "        Output 1 : <class 'pyomo.core.base.param._NotValid'>\n",
      "        Output 2 : <class 'pyomo.core.base.param._NotValid'>\n",
      "        Output 3 : <class 'pyomo.core.base.param._NotValid'>\n",
      "\n",
      "2 Var Declarations\n",
      "    x : Size=3, Index=x_index\n",
      "        Key     : Lower : Value : Upper : Fixed : Stale : Domain\n",
      "        Input 1 :     0 :  None :  None : False :  True : NonNegativeReals\n",
      "        Input 2 :     0 :  None :  None : False :  True : NonNegativeReals\n",
      "        Input 3 :     0 :  None :  None : False :  True : NonNegativeReals\n",
      "    y : Size=3, Index=y_index\n",
      "        Key      : Lower : Value : Upper : Fixed : Stale : Domain\n",
      "        Output 1 :     0 :  None :  None : False :  True : NonNegativeReals\n",
      "        Output 2 :     0 :  None :  None : False :  True : NonNegativeReals\n",
      "        Output 3 :     0 :  None :  None : False :  True : NonNegativeReals\n",
      "\n",
      "1 Objective Declarations\n",
      "    total_value_objective : Size=1, Index=None, Active=True\n",
      "        Key  : Active : Sense    : Expression\n",
      "        None :   True : maximize : obj_coef[Output 1]*y[Output 1] + obj_coef[Output 2]*y[Output 2] + obj_coef[Output 3]*y[Output 3]\n",
      "\n",
      "2 Constraint Declarations\n",
      "    efficiency_constraint : Size=4, Index=efficiency_constraint_index, Active=True\n",
      "        Key : Lower : Body                                                                                                      : Upper : Active\n",
      "          1 :  -Inf : 86*y[Output 1] + 75*y[Output 2] + 71*y[Output 3] - (0.06*x[Input 1] + 260.0*x[Input 2] + 11.3*x[Input 3]) :   0.0 :   True\n",
      "          2 :  -Inf : 82*y[Output 1] + 72*y[Output 2] + 67*y[Output 3] - (0.05*x[Input 1] + 320.0*x[Input 2] + 10.5*x[Input 3]) :   0.0 :   True\n",
      "          3 :  -Inf : 81*y[Output 1] + 79*y[Output 2] + 80*y[Output 3] - (0.08*x[Input 1] + 340.0*x[Input 2] + 12.0*x[Input 3]) :   0.0 :   True\n",
      "          4 :  -Inf : 81*y[Output 1] + 73*y[Output 2] + 69*y[Output 3] - (0.06*x[Input 1] + 460.0*x[Input 2] + 13.1*x[Input 3]) :   0.0 :   True\n",
      "    normalization_constraint : Size=1, Index=None, Active=True\n",
      "        Key  : Lower : Body                                                                                          : Upper : Active\n",
      "        None :   1.0 : norm_coef[Input 1]*x[Input 1] + norm_coef[Input 2]*x[Input 2] + norm_coef[Input 3]*x[Input 3] :   1.0 :   True\n",
      "\n",
      "12 Declarations: obj_coef_index obj_coef norm_coef_index norm_coef x_index x y_index y total_value_objective efficiency_constraint_index efficiency_constraint normalization_constraint\n"
     ]
    }
   ],
   "source": [
    "if hasattr(model, 'normalization_constraint'):\n",
    "    model.delete(model.normalization_constraint)\n",
    "model.normalization_constraint =  Constraint(\n",
    "    expr=sum(model.norm_coef[i]*model.x[i] for i in I) == 1)\n",
    "model.pprint()"
   ]
  },
  {
   "cell_type": "markdown",
   "metadata": {},
   "source": [
    "Specify solver and solve.\n"
   ]
  },
  {
   "cell_type": "code",
   "execution_count": 30,
   "metadata": {},
   "outputs": [
    {
     "name": "stdout",
     "output_type": "stream",
     "text": [
      "Alton objective 1.000000\n",
      "Beeks objective 1.000000\n",
      "Carey objective 1.000000\n",
      "Delancey objective 0.858209\n"
     ]
    }
   ],
   "source": [
    "for s in S:\n",
    "    model.obj_coef.store_values({j: output_data[s,j] for j in J})\n",
    "    model.norm_coef.store_values({i: input_data[s,i] for i in I})\n",
    "    solver = SolverFactory('glpk')\n",
    "    status = solver.solve(model)\n",
    "    print(\"%s objective %f\" % (s, value(model.total_value_objective)))"
   ]
  },
  {
   "cell_type": "code",
   "execution_count": null,
   "metadata": {},
   "outputs": [],
   "source": []
  }
 ],
 "metadata": {
  "kernelspec": {
   "display_name": "Python 3 (ipykernel)",
   "language": "python",
   "name": "python3"
  },
  "language_info": {
   "codemirror_mode": {
    "name": "ipython",
    "version": 3
   },
   "file_extension": ".py",
   "mimetype": "text/x-python",
   "name": "python",
   "nbconvert_exporter": "python",
   "pygments_lexer": "ipython3",
   "version": "3.9.7"
  }
 },
 "nbformat": 4,
 "nbformat_minor": 4
}
